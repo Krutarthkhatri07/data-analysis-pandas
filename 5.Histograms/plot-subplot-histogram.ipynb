{
 "cells": [
  {
   "cell_type": "code",
   "execution_count": 3,
   "metadata": {
    "collapsed": true
   },
   "outputs": [],
   "source": [
    "# importing required modules.\n",
    "import pandas as pd;\n",
    "from matplotlib import pyplot as plt;"
   ]
  },
  {
   "cell_type": "code",
   "execution_count": 22,
   "metadata": {},
   "outputs": [
    {
     "name": "stdout",
     "output_type": "stream",
     "text": [
      "Number of countries in Asia for the year 2007 is 33\n",
      "Number of countries in Europe for the year 2007 is 30\n"
     ]
    }
   ],
   "source": [
    "# consume and prepare the data by taking data for asia and europe for the year 2007.\n",
    "countries = pd.read_csv('countries.csv');\n",
    "countries_2007 = countries[countries.year == 2007];\n",
    "asia_2007 = countries_2007[countries_2007.continent == 'Asia'];\n",
    "europe_2007 = countries_2007[countries_2007.continent == 'Europe'];\n",
    "print('Number of countries in Asia for the year 2007 is', len(set(asia_2007.country)));\n",
    "print('Number of countries in Europe for the year 2007 is', len(set(europe_2007.country)));"
   ]
  },
  {
   "cell_type": "code",
   "execution_count": 37,
   "metadata": {},
   "outputs": [
    {
     "data": {
      "image/png": "[encoded data removed]",
      "text/plain": [
       "<matplotlib.figure.Figure at 0x70dfc10>"
      ]
     },
     "metadata": {},
     "output_type": "display_data"
    }
   ],
   "source": [
    "# plot histograms for asia and europe for its comparison.\n",
    "plt.subplot(2, 1, 1);\n",
    "plt.title('GDP per capita for countries in Asia and Europe');\n",
    "plt.hist(asia_2007.gdpPerCapita, 20, range = (0, 50000), edgecolor = 'black');\n",
    "plt.ylabel('Asia');\n",
    "plt.subplot(2, 1, 2);\n",
    "plt.hist(europe_2007.gdpPerCapita, 20, range = (0, 50000), edgecolor = 'black');\n",
    "plt.ylabel('Europe');\n",
    "plt.show()"
   ]
  },
  {
   "cell_type": "code",
   "execution_count": null,
   "metadata": {
    "collapsed": true
   },
   "outputs": [],
   "source": []
  }
 ],
 "metadata": {
  "kernelspec": {
   "display_name": "Python 3",
   "language": "python",
   "name": "python3"
  },
  "language_info": {
   "codemirror_mode": {
    "name": "ipython",
    "version": 3
   },
   "file_extension": ".py",
   "mimetype": "text/x-python",
   "name": "python",
   "nbconvert_exporter": "python",
   "pygments_lexer": "ipython3",
   "version": "3.6.2"
  }
 },
 "nbformat": 4,
 "nbformat_minor": 2
}
